{
  "nbformat": 4,
  "nbformat_minor": 0,
  "metadata": {
    "colab": {
      "provenance": [],
      "authorship_tag": "ABX9TyP8QLusTFQtDTMJaR7jvZAL",
      "include_colab_link": true
    },
    "kernelspec": {
      "name": "python3",
      "display_name": "Python 3"
    },
    "language_info": {
      "name": "python"
    }
  },
  "cells": [
    {
      "cell_type": "markdown",
      "metadata": {
        "id": "view-in-github",
        "colab_type": "text"
      },
      "source": [
        "<a href=\"https://colab.research.google.com/github/Javorai/Coding-Dojo-Core/blob/main/Python_para_Ciencia_de_Datos_Manejo_de_cadenas_(Core).ipynb\" target=\"_parent\"><img src=\"https://colab.research.google.com/assets/colab-badge.svg\" alt=\"Open In Colab\"/></a>"
      ]
    },
    {
      "cell_type": "markdown",
      "source": [
        "# **Python para Ciencia de Datos / Manejo de cadenas (Core)**\n",
        "**Manejo de cadenas**\n",
        "\n",
        "Para aplicar lo aprendido, realiza los siguientes ejercicios:\n",
        "\n",
        "**Ejercicio 1: Saludo Personalizado**\n",
        "\n",
        "*  Crea un programa que pida al usuario su nombre y edad, y luego imprima un saludo personalizado.\n",
        "*   Usa input para capturar el nombre y la edad.\n",
        "*   Usa print para mostrar el saludo.\n",
        "\n",
        "\n",
        "\n"
      ],
      "metadata": {
        "id": "3QnnIo4thr7E"
      }
    },
    {
      "cell_type": "code",
      "source": [
        "# Capturar el nombre y la edad del usuario\n",
        "nombre = input(\"¿Cuál es tu nombre? \")\n",
        "edad = input(\"¿Cuántos años tienes? \")\n",
        "\n",
        "# Imprimir el saludo personalizado\n",
        "print(f\"¡Hola, {nombre}! Tienes {edad} años. ¿Cómo estás?\")\n"
      ],
      "metadata": {
        "colab": {
          "base_uri": "https://localhost:8080/"
        },
        "id": "qVLeY5UDiPHm",
        "outputId": "1402c20e-8d6a-46ae-fee3-574cb7a93790"
      },
      "execution_count": 17,
      "outputs": [
        {
          "output_type": "stream",
          "name": "stdout",
          "text": [
            "¿Cuál es tu nombre? Harry\n",
            "¿Cuántos años tienes? 30\n",
            "¡Hola, Harry! Tienes 30 años. ¿Cómo estás?\n"
          ]
        }
      ]
    },
    {
      "cell_type": "markdown",
      "source": [
        "**Ejercicio 2: Manipulación de Cadenas**\n",
        "\n",
        "\n",
        "*   Crea una cadena con tu nombre completo.\n",
        "*   Usa los métodos de cadenas para:\n",
        "   - Convertir el nombre a mayúsculas y minúsculas.\n",
        "\n",
        "\n",
        "\n",
        "\n",
        "\n",
        "\n",
        "\n",
        "   \n"
      ],
      "metadata": {
        "id": "hSG5L0CQj2cQ"
      }
    },
    {
      "cell_type": "code",
      "source": [
        "# Crear una cadena con tu nombre completo\n",
        "nombre_completo = input(\"Introduce tu Nombre Completo \")\n",
        "\n",
        "# Convertir el nombre a mayúsculas o minúsculas\n",
        "nombre_mayusculas = nombre_completo.upper()\n",
        "nombre_minusculas = nombre_completo.lower()\n",
        "\n",
        "# Imprimir los resultados\n",
        "print(f\"Tú Nombre en mayúsculas: {nombre_mayusculas}\")\n",
        "print(f\"Tú Nombre en minúsculas: {nombre_minusculas}\")\n"
      ],
      "metadata": {
        "colab": {
          "base_uri": "https://localhost:8080/"
        },
        "id": "IbP-DmSlnetm",
        "outputId": "d7383e7b-95e9-4aa6-d606-5d1688d83d6c"
      },
      "execution_count": 18,
      "outputs": [
        {
          "output_type": "stream",
          "name": "stdout",
          "text": [
            "Introduce tu Nombre Completo Harry Potter\n",
            "Tú Nombre en mayúsculas: HARRY POTTER\n",
            "Tú Nombre en minúsculas: harry potter\n"
          ]
        }
      ]
    },
    {
      "cell_type": "markdown",
      "source": [
        "\n",
        "\n",
        "*   Contar el número de letras en tu nombre.\n"
      ],
      "metadata": {
        "id": "SrkoevE0oQBh"
      }
    },
    {
      "cell_type": "code",
      "source": [
        "# Crear una cadena con tu nombre completo\n",
        "nombre_completo = input(\"Introduce tu Nombre Completo \")\n",
        "\n",
        "# Contar el número de letras en el nombre (sin espacios)\n",
        "num_letras = len(nombre_completo.replace(\" \", \"\"))\n",
        "\n",
        "# Imprimir el resultado\n",
        "print(f\"El número de letras en tu nombre es de: {num_letras}\")"
      ],
      "metadata": {
        "colab": {
          "base_uri": "https://localhost:8080/"
        },
        "id": "IK3SoPtkoWQe",
        "outputId": "24f7b0ce-daae-452c-987e-27f59c3f3bd2"
      },
      "execution_count": 19,
      "outputs": [
        {
          "output_type": "stream",
          "name": "stdout",
          "text": [
            "Introduce tu Nombre Completo Coding Dojo\n",
            "El número de letras en tu nombre es de: 10\n"
          ]
        }
      ]
    },
    {
      "cell_type": "markdown",
      "source": [
        "\n",
        "\n",
        "*   Reemplazar tu primer nombre por otro nombre.\n"
      ],
      "metadata": {
        "id": "m52TJhVfo0E7"
      }
    },
    {
      "cell_type": "code",
      "source": [
        "# Crear una cadena con tu nombre completo\n",
        "nombre_completo = input(\"Introduce tu Nombre Completo: \")\n",
        "nuevo_nombre = input(\"Introduce tu Nuevo Nombre: \")\n",
        "\n",
        "# Reemplazar el primer nombre por otro nombre\n",
        "nuevo_nombre_completo = nombre_completo.replace(nombre_completo.split()[0], nuevo_nombre, 1)\n",
        "\n",
        "# Imprimir el resultado\n",
        "print(f\"Nombre actualizado: {nuevo_nombre_completo}\")\n"
      ],
      "metadata": {
        "colab": {
          "base_uri": "https://localhost:8080/"
        },
        "id": "4ZxiDs0to_Lb",
        "outputId": "8d366870-4ae4-409f-c21a-d865a43ebfc0"
      },
      "execution_count": 20,
      "outputs": [
        {
          "output_type": "stream",
          "name": "stdout",
          "text": [
            "Introduce tu Nombre Completo: Latam Dojo\n",
            "Introduce tu Nuevo Nombre: Coding\n",
            "Nombre actualizado: Coding Dojo\n"
          ]
        }
      ]
    },
    {
      "cell_type": "markdown",
      "source": [
        "**Ejercicio 3: Lista de Nombres**\n",
        "\n",
        "*   Pide al usuario que ingrese una lista de nombres separados por comas.\n",
        "*   Usa split para convertir esta cadena en una lista de nombres.\n",
        "*   Imprime cada nombre en una línea separada.\n",
        "\n"
      ],
      "metadata": {
        "id": "_gkgqx_4yt3u"
      }
    },
    {
      "cell_type": "code",
      "source": [
        "# Pedir al usuario que ingrese una lista de nombres separados por comas\n",
        "lista_de_nombres = input('Introduce una lista de nombres y separalos por comas \",\": ')\n",
        "\n",
        "# Usar split para convertir esta cadena en una lista de nombres\n",
        "nombres = lista_de_nombres.split(',')\n",
        "\n",
        "# Imprimir cada nombre en una línea separada\n",
        "for nombre in nombres:\n",
        "    print(nombre.strip())\n"
      ],
      "metadata": {
        "colab": {
          "base_uri": "https://localhost:8080/"
        },
        "id": "DaQprQ-jyxzG",
        "outputId": "bac35805-f3c0-47c1-eb7f-688a8b632a25"
      },
      "execution_count": 21,
      "outputs": [
        {
          "output_type": "stream",
          "name": "stdout",
          "text": [
            "Introduce una lista de nombres y separalos por comas \",\": Juan, Marcelo, Pedro, Marcos, Lucas\n",
            "Juan\n",
            "Marcelo\n",
            "Pedro\n",
            "Marcos\n",
            "Lucas\n"
          ]
        }
      ]
    },
    {
      "cell_type": "code",
      "source": [
        "!git clone https://github.com/Javorai/Coding-Dojo-Core.git\n",
        "%cd Coding-Dojo-Core\n",
        "!git tag -a TC1.0 -m \"Tarea Core 1.0\"\n",
        "!git push origin TC1.0"
      ],
      "metadata": {
        "id": "UJXVojba9i16"
      },
      "execution_count": null,
      "outputs": []
    }
  ]
}