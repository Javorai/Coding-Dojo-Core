{
  "nbformat": 4,
  "nbformat_minor": 0,
  "metadata": {
    "colab": {
      "provenance": [],
      "authorship_tag": "ABX9TyM6FZHAkuY98ey1QxZs4jXL",
      "include_colab_link": true
    },
    "kernelspec": {
      "name": "python3",
      "display_name": "Python 3"
    },
    "language_info": {
      "name": "python"
    }
  },
  "cells": [
    {
      "cell_type": "markdown",
      "metadata": {
        "id": "view-in-github",
        "colab_type": "text"
      },
      "source": [
        "<a href=\"https://colab.research.google.com/github/Javorai/Coding-Dojo-Core/blob/main/Python_para_Ciencia_de_Datos_An%C3%A1lisis_de_Datos_con_NumPy_(Core).ipynb\" target=\"_parent\"><img src=\"https://colab.research.google.com/assets/colab-badge.svg\" alt=\"Open In Colab\"/></a>"
      ]
    },
    {
      "cell_type": "markdown",
      "source": [
        "# **Análisis de Datos con NumPy (Core)**\n",
        "**Objetivo:**\n",
        "Evaluar las capacidades de los estudiantes en el uso de NumPy para la creación y manipulación de arrays, operaciones matemáticas, indexación, slicing y agregaciones estadísticas. Este ejercicio también busca desarrollar habilidades analíticas y de programación lógica.\n",
        "**Instrucciones:**\n",
        "1.   **Descripción del Problema:** Imagina que estás trabajando como analista de datos para una empresa que recopila información sobre las ventas diarias de diferentes productos en varias tiendas. Necesitas analizar estos datos para extraer información útil y presentar un resumen de las ventas.\n",
        "2.   **Requisitos del Sistema:**\n",
        "*   El programa debe generar datos de ventas de manera aleatoria para 10 productos diferentes en 5 tiendas distintas durante 7 días (una semana).\n",
        "*   Los datos deben estar almacenados en un array de NumPy de 3 dimensiones (productos, tiendas, días).\n",
        "*   Debes calcular y mostrar la siguiente información\n",
        " -   Total de ventas por producto a lo largo de la semana.\n",
        " -   Total de ventas por tienda a lo largo de la semana.\n",
        " -   Promedio de ventas por producto por día.\n",
        " -   Promedio de ventas por tienda por día.\n",
        " -   Producto con mayor y menor ventas totales en la semana.\n",
        " -   Tienda con mayor y menor ventas totales en la semana.\n",
        "3. **Detalles Específicos:**\n",
        "*   Genera los datos de ventas aleatorias usando np.random.randint, con valores entre 0 y 100.\n",
        "*   Usa funciones de NumPy para calcular las sumas y promedios.\n",
        "*   Maneja posibles errores o valores inesperados.\n",
        "*   Presenta los resultados de manera clara y estructurada.\n",
        "4.  **Consideraciones Adicionales:**\n",
        "*   Organiza tu código utilizando funciones para cada una de las tareas principales.\n",
        "*   Usa comentarios para explicar cada sección de tu código.\n",
        "*   Asegúrate de que el código sea robusto y maneje casos en los que los datos generados puedan estar fuera de los rangos esperados.\n",
        "\n",
        "\n",
        "\n",
        "\n",
        "\n",
        "\n",
        "\n",
        "\n",
        "\n",
        "\n",
        "\n",
        "\n",
        "\n",
        "\n",
        "\n"
      ],
      "metadata": {
        "id": "no6P9LyXIZgM"
      }
    },
    {
      "cell_type": "code",
      "source": [
        "import numpy as np\n",
        "\n",
        "def generar_datos_ventas(productos, tiendas, dias):\n",
        "    # Genera datos de ventas aleatorias para el número de productos, tiendas y días especificados\n",
        "    return np.random.randint(0, 101, (productos, tiendas, dias))\n",
        "\n",
        "def calcular_totales_ventas_por_producto(datos):\n",
        "    # Calcula el total de ventas por producto a lo largo de la semana\n",
        "    return np.sum(datos, axis=(1, 2))\n",
        "\n",
        "def calcular_totales_ventas_por_tienda(datos):\n",
        "    # Calcula el total de ventas por tienda a lo largo de la semana\n",
        "    return np.sum(datos, axis=(0, 2))\n",
        "\n",
        "def calcular_promedio_ventas_por_producto(datos):\n",
        "    # Calcula el promedio de ventas por producto por día\n",
        "    return np.mean(datos, axis=(1, 2))\n",
        "\n",
        "def calcular_promedio_ventas_por_tienda(datos):\n",
        "    # Calcula el promedio de ventas por tienda por día\n",
        "    return np.mean(datos, axis=(0, 2))\n",
        "\n",
        "def encontrar_producto_mayor_menor_ventas(totales_por_producto):\n",
        "    # Encuentra el producto con mayor y menor ventas totales en la semana\n",
        "    producto_mayor_ventas = np.argmax(totales_por_producto)\n",
        "    producto_menor_ventas = np.argmin(totales_por_producto)\n",
        "    return producto_mayor_ventas, producto_menor_ventas\n",
        "\n",
        "def encontrar_tienda_mayor_menor_ventas(totales_por_tienda):\n",
        "    # Encuentra la tienda con mayor y menor ventas totales en la semana\n",
        "    tienda_mayor_ventas = np.argmax(totales_por_tienda)\n",
        "    tienda_menor_ventas = np.argmin(totales_por_tienda)\n",
        "    return tienda_mayor_ventas, tienda_menor_ventas\n",
        "\n",
        "def imprimir_resumen(productos, tiendas, totales_por_producto, totales_por_tienda, promedio_por_producto, promedio_por_tienda, producto_mayor_ventas, producto_menor_ventas, tienda_mayor_ventas, tienda_menor_ventas):\n",
        "    print(\"\\nTotal de ventas por producto a lo largo de la semana:\")\n",
        "    for i in range(productos):\n",
        "        print(f\"Producto {i+1}: {totales_por_producto[i]}\")\n",
        "\n",
        "    print(\"\\nTotal de ventas por tienda a lo largo de la semana:\")\n",
        "    for i in range(tiendas):\n",
        "        print(f\"Tienda {i+1}: {totales_por_tienda[i]}\")\n",
        "\n",
        "    print(\"\\nPromedio de ventas por producto por día:\")\n",
        "    for i in range(productos):\n",
        "        print(f\"Producto {i+1}: {promedio_por_producto[i]}\")\n",
        "\n",
        "    print(\"\\nPromedio de ventas por tienda por día:\")\n",
        "    for i in range(tiendas):\n",
        "        print(f\"Tienda {i+1}: {promedio_por_tienda[i]}\")\n",
        "\n",
        "    print(f\"\\nProducto con mayor ventas: Producto {producto_mayor_ventas+1}\")\n",
        "    print(f\"Producto con menor ventas: Producto {producto_menor_ventas+1}\")\n",
        "\n",
        "    print(f\"\\nTienda con mayor ventas: Tienda {tienda_mayor_ventas+1}\")\n",
        "    print(f\"Tienda con menor ventas: Tienda {tienda_menor_ventas+1}\")\n",
        "\n",
        "productos = 10\n",
        "tiendas = 5\n",
        "dias = 7\n",
        "\n",
        "# Genera los datos de ventas\n",
        "datos = generar_datos_ventas(productos, tiendas, dias)\n",
        "\n",
        "# Calcula los totales y promedios\n",
        "totales_por_producto = calcular_totales_ventas_por_producto(datos)\n",
        "totales_por_tienda = calcular_totales_ventas_por_tienda(datos)\n",
        "promedio_por_producto = calcular_promedio_ventas_por_producto(datos)\n",
        "promedio_por_tienda = calcular_promedio_ventas_por_tienda(datos)\n",
        "\n",
        "# Encuentra el producto y la tienda con mayor y menor ventas\n",
        "producto_mayor_ventas, producto_menor_ventas = encontrar_producto_mayor_menor_ventas(totales_por_producto)\n",
        "tienda_mayor_ventas, tienda_menor_ventas = encontrar_tienda_mayor_menor_ventas(totales_por_tienda)\n",
        "\n",
        "# Imprime los resultados\n",
        "print(\"Total de ventas por producto a lo largo de la semana:\", totales_por_producto)\n",
        "print(\"Total de ventas por tienda a lo largo de la semana:\", totales_por_tienda)\n",
        "print(\"Promedio de ventas por producto por día:\", promedio_por_producto)\n",
        "print(\"Promedio de ventas por tienda por día:\", promedio_por_tienda)\n",
        "print(f\"Producto con mayor ventas: Producto {producto_mayor_ventas}\")\n",
        "print(f\"Producto con menor ventas: Producto {producto_menor_ventas}\")\n",
        "print(f\"Tienda con mayor ventas: Tienda {tienda_mayor_ventas}\")\n",
        "print(f\"Tienda con menor ventas: Tienda {tienda_menor_ventas}\")\n",
        "#Variante de resumen de resultados\n",
        "#imprimir_resumen(productos, tiendas, totales_por_producto, totales_por_tienda, promedio_por_producto, promedio_por_tienda, producto_mayor_ventas, producto_menor_ventas, tienda_mayor_ventas, tienda_menor_ventas)"
      ],
      "metadata": {
        "colab": {
          "base_uri": "https://localhost:8080/"
        },
        "id": "U5UzApsLssvw",
        "outputId": "d87cdee4-1d91-4abd-c1a9-b5a36d522850"
      },
      "execution_count": 11,
      "outputs": [
        {
          "output_type": "stream",
          "name": "stdout",
          "text": [
            "Total de ventas por producto a lo largo de la semana: [1654 1806 1516 1980 1819 1802 1703 1530 1780 1717]\n",
            "Total de ventas por tienda a lo largo de la semana: [3373 3368 3662 3604 3300]\n",
            "Promedio de ventas por producto por día: [47.25714286 51.6        43.31428571 56.57142857 51.97142857 51.48571429\n",
            " 48.65714286 43.71428571 50.85714286 49.05714286]\n",
            "Promedio de ventas por tienda por día: [48.18571429 48.11428571 52.31428571 51.48571429 47.14285714]\n",
            "Producto con mayor ventas: Producto 3\n",
            "Producto con menor ventas: Producto 2\n",
            "Tienda con mayor ventas: Tienda 2\n",
            "Tienda con menor ventas: Tienda 4\n"
          ]
        }
      ]
    }
  ]
}